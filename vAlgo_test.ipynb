{
 "cells": [
  {
   "cell_type": "code",
   "execution_count": 1,
   "metadata": {},
   "outputs": [],
   "source": [
    "from openalgo import api\n",
    "\n",
    "# Replace 'your_api_key_here' with your actual API key\n",
    "# Specify the host URL with your hosted domain or ngrok domain. \n",
    "# If running locally in windows then use the default host value. \n",
    "client = api(api_key='56a4d275edac50740297d9920795c0d2f824937bba05c212348ed71720350a1c', host='http://127.0.0.1:5000')\n",
    "\n",
    "\n"
   ]
  },
  {
   "cell_type": "code",
   "execution_count": 20,
   "metadata": {},
   "outputs": [
    {
     "name": "stdout",
     "output_type": "stream",
     "text": [
      "              close      high       low      open  volume\n",
      "timestamp                                                \n",
      "2025-06-26  57206.7  57263.45  56558.35  56693.55       0\n"
     ]
    }
   ],
   "source": [
    "response = client.history(symbol=\"BANKNIFTY\", \n",
    "    exchange=\"NSE_INDEX\", \n",
    "    interval=\"D\", \n",
    "    start_date=\"2025-06-26\", \n",
    "    end_date=\"2025-06-27\"\n",
    "    )\n",
    "print(response)"
   ]
  }
 ],
 "metadata": {
  "kernelspec": {
   "display_name": "venv",
   "language": "python",
   "name": "python3"
  },
  "language_info": {
   "codemirror_mode": {
    "name": "ipython",
    "version": 3
   },
   "file_extension": ".py",
   "mimetype": "text/x-python",
   "name": "python",
   "nbconvert_exporter": "python",
   "pygments_lexer": "ipython3",
   "version": "3.12.8"
  }
 },
 "nbformat": 4,
 "nbformat_minor": 2
}
